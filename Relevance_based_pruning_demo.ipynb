{
  "nbformat": 4,
  "nbformat_minor": 0,
  "metadata": {
    "colab": {
      "name": "Relevance_based_pruning_demo.ipynb",
      "provenance": [],
      "collapsed_sections": []
    },
    "kernelspec": {
      "display_name": "Python 3",
      "language": "python",
      "name": "python3"
    },
    "language_info": {
      "codemirror_mode": {
        "name": "ipython",
        "version": 3
      },
      "file_extension": ".py",
      "mimetype": "text/x-python",
      "name": "python",
      "nbconvert_exporter": "python",
      "pygments_lexer": "ipython3"
    }
  },
  "cells": [
    {
      "cell_type": "markdown",
      "metadata": {
        "id": "swRgFW0eFdOd"
      },
      "source": [
        "<a   href=\"https://colab.research.google.com/github/N-Nieto/Relevance_Based_Pruning/Relevance_based_pruning_demo.ipynb\" target=\"_parent\"><img src=\"https://colab.research.google.com/assets/colab-badge.svg\" alt=\"Open In Colab\"/></a>"
      ]
    },
    {
      "cell_type": "markdown",
      "metadata": {
        "id": "RWZBEK8YFdOl"
      },
      "source": [
        "\n",
        "\n",
        "# This is a toy example for the implementation of Relevance Pruning Method "
      ]
    },
    {
      "cell_type": "markdown",
      "metadata": {
        "id": "KHi9qrmXFdOo"
      },
      "source": [
        "### Import GitHub Repository"
      ]
    },
    {
      "cell_type": "code",
      "metadata": {
        "id": "kvhrbxB7FdOp"
      },
      "source": [
        "!git clone https://github.com/N-Nieto/Relevance_Based_Pruning  --quiet"
      ],
      "execution_count": 1,
      "outputs": []
    },
    {
      "cell_type": "markdown",
      "metadata": {
        "id": "sPRg54lNFdOs"
      },
      "source": [
        "### Imports"
      ]
    },
    {
      "cell_type": "code",
      "metadata": {
        "id": "CMaap2QYQCIA"
      },
      "source": [
        "# Import libraries\n",
        "import timeit\n",
        "import numpy as np\n",
        "import scipy.io as sio\n",
        "import matplotlib.pyplot as plt\n",
        "\n",
        "from sklearn.metrics import accuracy_score\n",
        "from sklearn.model_selection import train_test_split\n",
        "from Relevance_Based_Pruning.Python_Implementation import RBP_Utilitys"
      ],
      "execution_count": 2,
      "outputs": []
    },
    {
      "cell_type": "markdown",
      "metadata": {
        "id": "LSEgoYNCQKkE"
      },
      "source": [
        "Load Syntetic data"
      ]
    },
    {
      "cell_type": "code",
      "metadata": {
        "id": "415Wb7GNQKLz"
      },
      "source": [
        "# Change to your data direction\n",
        "file_name= '/content/Relevance_Based_Pruning/Python_Implementation/Synthetic_data.mat'\n",
        "\n",
        "# In[]: Data Load\n",
        "X_load= sio.loadmat(file_name=file_name)\n",
        "X_data= X_load['X']\n",
        "Y_data= X_load['Y']\n",
        "   \n",
        "del (X_load , file_name)\n"
      ],
      "execution_count": 3,
      "outputs": []
    },
    {
      "cell_type": "markdown",
      "metadata": {
        "id": "4lLC_xifQYTi"
      },
      "source": [
        "Hyperparameter setting"
      ]
    },
    {
      "cell_type": "code",
      "metadata": {
        "id": "6SPXL1A7QbSf"
      },
      "source": [
        "# Create an RBP object with all the necessary functions inside\n",
        "rbp = RBP_Utilitys.RBP()\n",
        "\n",
        "# In[]: Parameters\n",
        "test_size = 0.9\n",
        "\n",
        "N_nodes_max = 500\n",
        "\n",
        "# Number of diferent random initializations\n",
        "K = 5\n",
        "\n",
        "# Cross Validations splits\n",
        "CV = 2"
      ],
      "execution_count": 4,
      "outputs": []
    },
    {
      "cell_type": "markdown",
      "metadata": {
        "id": "VOO5-NMPQUC-"
      },
      "source": [
        "Main Loop"
      ]
    },
    {
      "cell_type": "code",
      "metadata": {
        "colab": {
          "background_save": true
        },
        "id": "S2mgMyIdGGor"
      },
      "source": [
        "# In[]\n",
        "for cv in range (CV):\n",
        "    x_train, x_test, y_train, y_test = train_test_split(X_data, Y_data, test_size=test_size, shuffle=True)\n",
        "    \n",
        "    for k in range (K):\n",
        "        acc_prun = 0\n",
        "        \n",
        "\n",
        "        start_time = timeit.default_timer()\n",
        "        # Generate a random network\n",
        "        W , b = rbp.generate_rand_network(x_train, N_nodes_max)\n",
        "        \n",
        "        # Fitting with pinv2\n",
        "        B = rbp.fit(x=x_train,W=W,b=b,y=y_train)\n",
        "                \n",
        "        # Pruning: the pruning step could be changed for faster implementations\n",
        "        for N_nodes_to_keep in range(N_nodes_max):\n",
        "            \n",
        "            if not(N_nodes_to_keep == 0):\n",
        "                    \n",
        "                # Prune the network\n",
        "                W_prun , b_prun, B_prun = rbp.fix_prunning(W, b, B, prn_perc = N_nodes_to_keep, mode = \"keep\")\n",
        "                \n",
        "                # Make a prediction with the pruned netwokr\n",
        "                y_pred_tst = rbp.predict(x_test, W_prun, b_prun, B_prun)\n",
        "                \n",
        "                # Calculaty the accuracy\n",
        "                acc_aux=accuracy_score(y_test,y_pred_tst)\n",
        "                \n",
        "                # Append the accuracy for network size\n",
        "                acc_prun=np.append(acc_prun,acc_aux)\n",
        "            \n",
        "        stop_time = timeit.default_timer()\n",
        "        #compute \n",
        "        time = stop_time - start_time\n",
        "\n",
        "        acc_prun=np.delete(acc_prun,0)\n",
        "        \n",
        "        if k == 0:    \n",
        "            #Inicialiced\n",
        "            Acc_prun=acc_prun\n",
        "            train_time = time\n",
        "        else:\n",
        "            #Stack trials\n",
        "            Acc_prun = np.vstack((Acc_prun,acc_prun))\n",
        "            train_time = np.append(train_time,time)\n",
        "    \n",
        "    if cv == 0:    \n",
        "        #Inicialiced\n",
        "        Acc_final=Acc_prun\n",
        "        final_time = train_time\n",
        "    else:\n",
        "        #Stack trials\n",
        "        Acc_final = np.vstack((Acc_final,Acc_prun))\n",
        "        final_time = np.append(final_time,train_time)\n",
        "    \n"
      ],
      "execution_count": null,
      "outputs": []
    },
    {
      "cell_type": "markdown",
      "metadata": {
        "id": "H78c91e1QhN1"
      },
      "source": [
        "Ploting Results"
      ]
    },
    {
      "cell_type": "code",
      "metadata": {
        "colab": {
          "background_save": true
        },
        "id": "GN0P1lq0QgpD"
      },
      "source": [
        "## Ploting\n",
        "print(\"Mean time for each network training: \"final_time.mean())\n",
        "plt.figure(figsize= [20,10])\n",
        "plt.plot(np.mean(Acc_final*100,0))\n",
        "plt.title(\"RBP performance over syntecic data\")\n",
        "plt.xlabel(\"Hidden Nodes\")\n",
        "plt.ylabel(\"Accuracy [%]\")"
      ],
      "execution_count": null,
      "outputs": []
    }
  ]
}
